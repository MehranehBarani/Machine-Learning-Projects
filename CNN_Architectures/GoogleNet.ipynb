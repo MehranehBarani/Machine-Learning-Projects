{
  "nbformat": 4,
  "nbformat_minor": 0,
  "metadata": {
    "colab": {
      "provenance": []
    },
    "kernelspec": {
      "name": "python3",
      "display_name": "Python 3"
    },
    "language_info": {
      "name": "python"
    }
  },
  "cells": [
    {
      "cell_type": "code",
      "execution_count": null,
      "metadata": {
        "id": "qBEZDwk_6esj"
      },
      "outputs": [],
      "source": [
        "import torch\n",
        "import torch.nn as nn\n",
        "import torch.nn.functional as F\n",
        "from torchvision import datasets, models, transforms"
      ]
    },
    {
      "cell_type": "code",
      "source": [
        "class BasicConv2d(nn.Module):\n",
        "  def __init__(self, in_channel:int, out_channel:int,*args, **kwargs):\n",
        "    super().__init__()\n",
        "\n",
        "    self.cn = nn.Conv2d(in_channel, out_channel,*args, **kwargs)\n",
        "    self.bn = nn.BatchNorm2d(out_channel) # barcgNormalization befor activation.number of features= output_channel\n",
        "    self.relu = nn.ReLU()\n",
        "\n",
        "  def forward(self, x):\n",
        "    x = self.cn(x)\n",
        "    x = self.bn(x)\n",
        "    x = self.relu(x)\n",
        "    return x\n",
        "\n",
        "x = torch.randn(32, 3 , 224,224)\n",
        "model = BasicConv2d(3 ,64 ,3 ,1 ,0) # input_channel, output_channel,kernnel,  stride, padding\n",
        "model(x).size()"
      ],
      "metadata": {
        "colab": {
          "base_uri": "https://localhost:8080/"
        },
        "id": "M5tyXMBR7Cho",
        "outputId": "92fb72f3-766b-473e-bc75-00293503a3f1"
      },
      "execution_count": null,
      "outputs": [
        {
          "output_type": "execute_result",
          "data": {
            "text/plain": [
              "torch.Size([32, 64, 222, 222])"
            ]
          },
          "metadata": {},
          "execution_count": 2
        }
      ]
    },
    {
      "cell_type": "markdown",
      "source": [
        "batch size=32 , output_channel=64, window_size = 222*222\n",
        "\n",
        "---\n",
        "\n"
      ],
      "metadata": {
        "id": "IB7013_79Tk8"
      }
    },
    {
      "cell_type": "code",
      "source": [
        "class Inception(nn.Module):\n",
        "    def __init__(self, in_channel: int,\n",
        "                 b1_11_ch: int, # first branch: kernel 1*1\n",
        "                 b2_11_ch: int, b2_33_ch: int, # int: output_channel\n",
        "                 b3_11_ch: int, b3_55_ch: int,\n",
        "                 b4_11_ch: int):\n",
        "      super().__init__()\n",
        "      self.b1 = BasicConv2d(in_channel, b1_11_ch, 1, 1, 0)#b1_11_ch: output_channel, kernel, stride,same padding\n",
        "      self.b2 = nn.Sequential(\n",
        "          BasicConv2d(in_channel, b2_11_ch, 1, 1, 0),\n",
        "          BasicConv2d(b2_11_ch, b2_33_ch, 3, 1, 1),\n",
        "      )\n",
        "      self.b3 = nn.Sequential(\n",
        "          BasicConv2d(in_channel, b3_11_ch, 1, 1, 0),\n",
        "          BasicConv2d(b3_11_ch, b3_55_ch, 5, 1, 2),\n",
        "      )\n",
        "      self.b4 = nn.Sequential(\n",
        "          nn.MaxPool2d(kernel_size=(3, 3), stride=1, padding=1),\n",
        "          BasicConv2d(in_channel, b4_11_ch, 5, 1, 2),\n",
        "      )\n",
        "\n",
        "    def forward(self,x):\n",
        "        b1 = self.b1(x)\n",
        "        b2 = self.b2(x)\n",
        "        b3 = self.b3(x)\n",
        "        b4 = self.b4(x)\n",
        "        x = torch.cat([b1, b2, b3, b4], 1) #0: barch_size, 1:channel, 2:height , 3:width\n",
        "        return x\n",
        "\n",
        "x = torch.rand(32, 64, 32 ,32)\n",
        "model = Inception(64 ,64, 96, 128, 12, 32, 32 )\n",
        "# out_ch = 64  128+ 32 + 32 = 256\n",
        "model(x).size()"
      ],
      "metadata": {
        "colab": {
          "base_uri": "https://localhost:8080/"
        },
        "id": "8WAuKtU29qwe",
        "outputId": "3b432fe7-b0b6-44ea-c75e-9fff560823d9"
      },
      "execution_count": null,
      "outputs": [
        {
          "output_type": "execute_result",
          "data": {
            "text/plain": [
              "torch.Size([32, 256, 32, 32])"
            ]
          },
          "metadata": {},
          "execution_count": 6
        }
      ]
    },
    {
      "cell_type": "markdown",
      "source": [
        "concat of outputs branches."
      ],
      "metadata": {
        "id": "1C2avWcWClpP"
      }
    },
    {
      "cell_type": "code",
      "source": [
        "class MinorGoogleNet(nn.Module):\n",
        "  def __init__(self, in_channel, num_classes: int):\n",
        "    super().__init__()\n",
        "    self.cn1 = BasicConv2d(in_channel, 64, 7, 2, 3)\n",
        "    self.s1 = nn.MaxPool2d(kernel_size=(3, 3), stride=2, padding=1)\n",
        "    # size=5, alpha=0.0001, beta=0.75, k = 2\n",
        "    self.lrn = nn.LocalResponseNorm(size=5, alpha=0.0001, beta=0.75, k = 2)\n",
        "\n",
        "    self.inception1 = Inception(64, 64, 96, 128, 12, 32, 32)\n",
        "    self.inception2 = Inception(256, 384, 192, 384, 48, 128, 128)\n",
        "    # 384 + 384 + 128 + 128 = 1024\n",
        "\n",
        "    self.gavgpool = nn.AdaptiveAvgPool2d((1,1)) # window size become 1*1. here we have 1024 outputs\n",
        "    self.flatten = nn.Flatten() # batch size remaind the same as before\n",
        "    self.dropout = nn.Dropout(0.4)\n",
        "    self.classifier = nn.Linear(1024, num_classes) # 1024= input, num_class = output\n",
        "\n",
        "\n",
        "  def forward(self, x:torch.Tensor) -> torch.Tensor:\n",
        "    x = self.cn1(x)\n",
        "    x = self.s1(x)\n",
        "    x = self.lrn(x)\n",
        "    x = self.inception1(x)\n",
        "    x = self.inception2(x)\n",
        "    x = self.gavgpool(x)\n",
        "    x = self.flatten(x)\n",
        "    x = self.dropout(x)\n",
        "    x = self.classifier(x)\n",
        "    return x\n",
        "\n",
        "x = torch.randn(32, 3, 224, 224)\n",
        "model = MinorGoogleNet(3, 1000)\n",
        "model(x).size()"
      ],
      "metadata": {
        "colab": {
          "base_uri": "https://localhost:8080/"
        },
        "id": "UiHTaHTQ6y_q",
        "outputId": "a9feae92-9ddd-4001-d786-e09f2b10485c"
      },
      "execution_count": null,
      "outputs": [
        {
          "output_type": "execute_result",
          "data": {
            "text/plain": [
              "torch.Size([32, 1000])"
            ]
          },
          "metadata": {},
          "execution_count": 12
        }
      ]
    },
    {
      "cell_type": "markdown",
      "source": [
        "batch_size=32, output=1000 beacause it has 1000 classes to predict"
      ],
      "metadata": {
        "id": "yQYnkWqcJ6CG"
      }
    },
    {
      "cell_type": "code",
      "source": [
        "models."
      ],
      "metadata": {
        "id": "cO7uWs7yKI7x"
      },
      "execution_count": null,
      "outputs": []
    }
  ]
}