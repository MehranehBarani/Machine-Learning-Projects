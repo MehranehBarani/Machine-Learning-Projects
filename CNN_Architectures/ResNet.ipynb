{
  "nbformat": 4,
  "nbformat_minor": 0,
  "metadata": {
    "colab": {
      "provenance": []
    },
    "kernelspec": {
      "name": "python3",
      "display_name": "Python 3"
    },
    "language_info": {
      "name": "python"
    }
  },
  "cells": [
    {
      "cell_type": "code",
      "execution_count": null,
      "metadata": {
        "id": "G20FgiDYBIiW"
      },
      "outputs": [],
      "source": [
        "import torch\n",
        "import torch.nn as nn\n",
        "import torch.nn.functional as F\n",
        "from torchvision import datasets, models, transforms"
      ]
    },
    {
      "cell_type": "code",
      "source": [
        "class ResUnit(nn.Module):\n",
        "  def __init__(self, in_channel, out_channel, bot_layer: bool):\n",
        "    super().__init__()\n",
        "    self.bot_layer = bot_layer\n",
        "    self.cn1 = nn.Sequential(\n",
        "        nn.Conv2d(in_channel, out_channel,\n",
        "                  stride=2 if bot_layer else 1,\n",
        "                  kernel_size=3,\n",
        "                  padding = 1),\n",
        "\n",
        "        nn.BatchNorm2d(out_channel),\n",
        "        nn.ReLU()\n",
        "    )\n",
        "    self.cn2 = nn.Sequential(\n",
        "        nn.Conv2d(out_channel, out_channel, 3,1,1),\n",
        "        nn.BatchNorm2d(out_channel)\n",
        "    )\n",
        "    self.cn_bl = nn.Sequential(\n",
        "        nn.Conv2d(in_channel, out_channel,1,2,0),\n",
        "        nn.BatchNorm2d(out_channel)\n",
        "    )\n",
        "\n",
        "\n",
        "  def forward(self, x:torch.Tensor) -> torch.Tensor:\n",
        "    out = self.cn1(x)\n",
        "    out = self.cn2(out)\n",
        "    if self.bot_layer:\n",
        "      x = self.cn_bl(x)\n",
        "    # resdual\n",
        "    out = out + x\n",
        "    out = F.relu(out)\n",
        "    return out\n",
        "\n",
        "x = torch.rand(32,64,32,32)\n",
        "model = ResUnit(64,64, False)\n",
        "model(x).size()"
      ],
      "metadata": {
        "colab": {
          "base_uri": "https://localhost:8080/"
        },
        "id": "NT8kIpU1Ghw5",
        "outputId": "d97162ee-0f6f-427d-8f87-b1fe1e661d96"
      },
      "execution_count": null,
      "outputs": [
        {
          "output_type": "execute_result",
          "data": {
            "text/plain": [
              "torch.Size([32, 64, 32, 32])"
            ]
          },
          "metadata": {},
          "execution_count": 12
        }
      ]
    },
    {
      "cell_type": "code",
      "source": [
        "class ResNEt34(nn.Module):\n",
        "  def __init__(self,in_channel, num_classes):\n",
        "    super().__init__()\n",
        "    self.input_block = nn.Sequential(\n",
        "        nn.Conv2d(in_channel, 64, 7, 2, 3),\n",
        "        nn.BatchNorm2d(64),\n",
        "        nn.ReLU(),\n",
        "        nn.MaxPool2d(kernel_size=3, stride=2, padding=1)\n",
        "    )\n",
        "\n",
        "    self.res_block = nn.ModuleList()\n",
        "\n",
        "    blocks = [[64] *3, [128] * 4, [256] * 6, [512] * 3 ]\n",
        "\n",
        "    for indx,  block in enumerate(blocks):\n",
        "      module = []\n",
        "      if indx==0:\n",
        "          for i in block:\n",
        "            module.append(ResUnit(i,i))\n",
        "          module = nn.Sequential(*module)\n",
        "      else:\n",
        "        module.append(ResUnit(block[0] // 2, block[0], bot_layer=True))\n",
        "        for i in block[1:]:\n",
        "          module.append(ResUnit(i,i))\n",
        "        module = nn.Sequential(*module)\n",
        "      self.res_block.append()\n",
        "    self.classifier = nn.Sequential(\n",
        "        nn.AdaptiveAvgPool2d(2,),\n",
        "        nn.Flatten(),\n",
        "        nn.Linear(1024,num_classes)\n",
        "    )\n",
        "\n",
        "  def forward(self, x):\n",
        "    x = self.input_block(x)\n",
        "    for res_block:\n",
        "      x = module(x)\n",
        "    x = self.classifier(x)\n",
        "    return x"
      ],
      "metadata": {
        "colab": {
          "base_uri": "https://localhost:8080/",
          "height": 110
        },
        "id": "pxFQLKr1GDhr",
        "outputId": "55d12fe5-bbf0-4203-b870-95958fc57541"
      },
      "execution_count": null,
      "outputs": [
        {
          "output_type": "error",
          "ename": "SyntaxError",
          "evalue": "invalid syntax (<ipython-input-14-5cede7d2a1b0>, line 35)",
          "traceback": [
            "\u001b[0;36m  File \u001b[0;32m\"<ipython-input-14-5cede7d2a1b0>\"\u001b[0;36m, line \u001b[0;32m35\u001b[0m\n\u001b[0;31m    for res_block:\u001b[0m\n\u001b[0m                 ^\u001b[0m\n\u001b[0;31mSyntaxError\u001b[0m\u001b[0;31m:\u001b[0m invalid syntax\n"
          ]
        }
      ]
    }
  ]
}